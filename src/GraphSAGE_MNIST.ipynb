{
 "cells": [
  {
   "cell_type": "code",
   "execution_count": 16,
   "metadata": {},
   "outputs": [],
   "source": [
    "from torch_geometric.loader import DataLoader\n",
    "\n",
    "from data import load_mnist_graph\n",
    "\n",
    "from torch_geometric.nn import global_add_pool, global_mean_pool, global_max_pool\n",
    "\n",
    "from layers import GraphSAGELayer\n",
    "\n",
    "import torch\n",
    "import torch.nn as nn\n",
    "import torch.nn.functional as F\n",
    "\n",
    "from train import train_mnist, evaluate_mnist\n",
    "\n",
    "device = torch.device('cuda' if torch.cuda.is_available() else 'cpu')\n",
    "\n",
    "\n",
    "%reload_ext autoreload\n",
    "%autoreload 2"
   ]
  },
  {
   "cell_type": "code",
   "execution_count": 17,
   "metadata": {},
   "outputs": [],
   "source": [
    "train_dataset, test_dataset = load_mnist_graph(subset=10000)\n",
    "train_loader = DataLoader(train_dataset, batch_size=128, shuffle=True)\n",
    "val_loader = DataLoader(test_dataset, batch_size=128, shuffle=False)\n",
    "\n"
   ]
  },
  {
   "cell_type": "code",
   "execution_count": 18,
   "metadata": {},
   "outputs": [],
   "source": [
    "class GraphSAGE(nn.Module):\n",
    "    def __init__(self, input_features, hidden_features, output_features, num_layers):\n",
    "        super(GraphSAGE, self).__init__()\n",
    "        self.layers = nn.ModuleList()\n",
    "        self.layers.append(GraphSAGELayer(input_features, hidden_features, aggr='sum'))\n",
    "        for _ in range(num_layers - 1):\n",
    "            self.layers.append(GraphSAGELayer(hidden_features, hidden_features, aggr='sum'))\n",
    "        self.linear = nn.Linear(hidden_features, output_features)\n",
    "    def forward(self, x, edge_index, batch):\n",
    "        for layer in self.layers:\n",
    "            x = layer.propagate(x, edge_index)\n",
    "\n",
    "        # readout\n",
    "        x = global_mean_pool(x, batch)\n",
    "\n",
    "        x = self.linear(x)\n",
    "        return x\n",
    "    "
   ]
  },
  {
   "cell_type": "code",
   "execution_count": 19,
   "metadata": {},
   "outputs": [
    {
     "name": "stderr",
     "output_type": "stream",
     "text": [
      "100%|██████████| 300/300 [13:37<00:00,  2.72s/epoch, f1=0.763, loss=0.145]\n"
     ]
    }
   ],
   "source": [
    "\n",
    "### Max number of epochs\n",
    "max_epochs = 300\n",
    "\n",
    "### Number of features\n",
    "n_features, n_classes = 1, 10\n",
    "hidden_size = 8\n",
    "\n",
    "### DEFINE THE MODEL\n",
    "basic_model = GraphSAGE(n_features, hidden_size, n_classes, num_layers=4).to(device)\n",
    "\n",
    "### DEFINE LOSS FUNCTION\n",
    "loss_fcn = nn.BCEWithLogitsLoss()\n",
    "\n",
    "### DEFINE OPTIMIZER\n",
    "optimizer = torch.optim.Adam(basic_model.parameters(), lr=0.01)\n",
    "scheduler = torch.optim.lr_scheduler.ReduceLROnPlateau(optimizer, mode='min', factor=0.1, patience=20, min_lr=0.0001)\n",
    "\n",
    "### TRAIN THE MODEL\n",
    "epoch_list, basic_model_scores = train_mnist(\n",
    "    basic_model,\n",
    "    loss_fcn,\n",
    "    device,\n",
    "    optimizer,\n",
    "    max_epochs,\n",
    "    train_loader,\n",
    "    val_loader,\n",
    ")"
   ]
  }
 ],
 "metadata": {
  "kernelspec": {
   "display_name": "Python 3",
   "language": "python",
   "name": "python3"
  },
  "language_info": {
   "codemirror_mode": {
    "name": "ipython",
    "version": 3
   },
   "file_extension": ".py",
   "mimetype": "text/x-python",
   "name": "python",
   "nbconvert_exporter": "python",
   "pygments_lexer": "ipython3",
   "version": "3.11.4"
  }
 },
 "nbformat": 4,
 "nbformat_minor": 2
}
