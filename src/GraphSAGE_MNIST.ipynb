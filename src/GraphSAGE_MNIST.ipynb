{
 "cells": [
  {
   "cell_type": "code",
   "execution_count": 1,
   "metadata": {},
   "outputs": [
    {
     "ename": "ImportError",
     "evalue": "/home/imenmahdi/.local/lib/python3.11/site-packages/torch/lib/../../nvidia/cusparse/lib/libcusparse.so.12: undefined symbol: __nvJitLinkComplete_12_4, version libnvJitLink.so.12",
     "output_type": "error",
     "traceback": [
      "\u001b[0;31m---------------------------------------------------------------------------\u001b[0m",
      "\u001b[0;31mImportError\u001b[0m                               Traceback (most recent call last)",
      "Cell \u001b[0;32mIn [1], line 1\u001b[0m\n\u001b[0;32m----> 1\u001b[0m \u001b[38;5;28;01mfrom\u001b[39;00m \u001b[38;5;21;01mtorch_geometric\u001b[39;00m\u001b[38;5;21;01m.\u001b[39;00m\u001b[38;5;21;01mloader\u001b[39;00m \u001b[38;5;28;01mimport\u001b[39;00m DataLoader\n\u001b[1;32m      3\u001b[0m \u001b[38;5;28;01mfrom\u001b[39;00m \u001b[38;5;21;01mdata\u001b[39;00m \u001b[38;5;28;01mimport\u001b[39;00m load_mnist_graph\n\u001b[1;32m      5\u001b[0m \u001b[38;5;28;01mfrom\u001b[39;00m \u001b[38;5;21;01mtorch_geometric\u001b[39;00m\u001b[38;5;21;01m.\u001b[39;00m\u001b[38;5;21;01mnn\u001b[39;00m \u001b[38;5;28;01mimport\u001b[39;00m global_add_pool, global_mean_pool, global_max_pool\n",
      "File \u001b[0;32m~/.local/lib/python3.11/site-packages/torch_geometric/__init__.py:1\u001b[0m\n\u001b[0;32m----> 1\u001b[0m \u001b[38;5;28;01mimport\u001b[39;00m \u001b[38;5;21;01mtorch_geometric\u001b[39;00m\u001b[38;5;21;01m.\u001b[39;00m\u001b[38;5;21;01mutils\u001b[39;00m\n\u001b[1;32m      2\u001b[0m \u001b[38;5;28;01mimport\u001b[39;00m \u001b[38;5;21;01mtorch_geometric\u001b[39;00m\u001b[38;5;21;01m.\u001b[39;00m\u001b[38;5;21;01mdata\u001b[39;00m\n\u001b[1;32m      3\u001b[0m \u001b[38;5;28;01mimport\u001b[39;00m \u001b[38;5;21;01mtorch_geometric\u001b[39;00m\u001b[38;5;21;01m.\u001b[39;00m\u001b[38;5;21;01msampler\u001b[39;00m\n",
      "File \u001b[0;32m~/.local/lib/python3.11/site-packages/torch_geometric/utils/__init__.py:3\u001b[0m\n\u001b[1;32m      1\u001b[0m \u001b[38;5;28;01mimport\u001b[39;00m \u001b[38;5;21;01mcopy\u001b[39;00m\n\u001b[0;32m----> 3\u001b[0m \u001b[38;5;28;01mfrom\u001b[39;00m \u001b[38;5;21;01m.\u001b[39;00m\u001b[38;5;21;01mscatter\u001b[39;00m \u001b[38;5;28;01mimport\u001b[39;00m scatter, group_argsort\n\u001b[1;32m      4\u001b[0m \u001b[38;5;28;01mfrom\u001b[39;00m \u001b[38;5;21;01m.\u001b[39;00m\u001b[38;5;21;01msegment\u001b[39;00m \u001b[38;5;28;01mimport\u001b[39;00m segment\n\u001b[1;32m      5\u001b[0m \u001b[38;5;28;01mfrom\u001b[39;00m \u001b[38;5;21;01m.\u001b[39;00m\u001b[38;5;21;01msort\u001b[39;00m \u001b[38;5;28;01mimport\u001b[39;00m index_sort\n",
      "File \u001b[0;32m~/.local/lib/python3.11/site-packages/torch_geometric/utils/scatter.py:3\u001b[0m\n\u001b[1;32m      1\u001b[0m \u001b[38;5;28;01mfrom\u001b[39;00m \u001b[38;5;21;01mtyping\u001b[39;00m \u001b[38;5;28;01mimport\u001b[39;00m Optional\n\u001b[0;32m----> 3\u001b[0m \u001b[38;5;28;01mimport\u001b[39;00m \u001b[38;5;21;01mtorch\u001b[39;00m\n\u001b[1;32m      4\u001b[0m \u001b[38;5;28;01mfrom\u001b[39;00m \u001b[38;5;21;01mtorch\u001b[39;00m \u001b[38;5;28;01mimport\u001b[39;00m Tensor\n\u001b[1;32m      6\u001b[0m \u001b[38;5;28;01mimport\u001b[39;00m \u001b[38;5;21;01mtorch_geometric\u001b[39;00m\u001b[38;5;21;01m.\u001b[39;00m\u001b[38;5;21;01mtyping\u001b[39;00m\n",
      "File \u001b[0;32m~/.local/lib/python3.11/site-packages/torch/__init__.py:235\u001b[0m\n\u001b[1;32m    233\u001b[0m     \u001b[38;5;28;01mif\u001b[39;00m USE_GLOBAL_DEPS:\n\u001b[1;32m    234\u001b[0m         _load_global_deps()\n\u001b[0;32m--> 235\u001b[0m     \u001b[38;5;28;01mfrom\u001b[39;00m \u001b[38;5;21;01mtorch\u001b[39;00m\u001b[38;5;21;01m.\u001b[39;00m\u001b[38;5;21;01m_C\u001b[39;00m \u001b[38;5;28;01mimport\u001b[39;00m \u001b[38;5;241m*\u001b[39m  \u001b[38;5;66;03m# noqa: F403\u001b[39;00m\n\u001b[1;32m    237\u001b[0m \u001b[38;5;66;03m# Appease the type checker; ordinarily this binding is inserted by the\u001b[39;00m\n\u001b[1;32m    238\u001b[0m \u001b[38;5;66;03m# torch._C module initialization code in C\u001b[39;00m\n\u001b[1;32m    239\u001b[0m \u001b[38;5;28;01mif\u001b[39;00m TYPE_CHECKING:\n",
      "\u001b[0;31mImportError\u001b[0m: /home/imenmahdi/.local/lib/python3.11/site-packages/torch/lib/../../nvidia/cusparse/lib/libcusparse.so.12: undefined symbol: __nvJitLinkComplete_12_4, version libnvJitLink.so.12"
     ]
    }
   ],
   "source": [
    "from torch_geometric.loader import DataLoader\n",
    "\n",
    "from data import load_mnist_graph\n",
    "\n",
    "from torch_geometric.nn import global_add_pool, global_mean_pool, global_max_pool\n",
    "\n",
    "from layers import GraphSAGELayer\n",
    "import numpy as np\n",
    "import torch\n",
    "import torch.nn as nn\n",
    "import torch.nn.functional as F\n",
    "\n",
    "import pandas as pd\n",
    "\n",
    "from train import train_graph_classification, evaluate_graph_classification\n",
    "from copy import deepcopy\n",
    "device = torch.device('cuda' if torch.cuda.is_available() else 'cpu')\n",
    "\n",
    "\n",
    "%reload_ext autoreload\n",
    "%autoreload 2"
   ]
  },
  {
   "cell_type": "code",
   "execution_count": 38,
   "metadata": {},
   "outputs": [],
   "source": [
    "train_dataset, test_dataset = load_mnist_graph(subset=10000)\n",
    "train_loader = DataLoader(train_dataset, batch_size=128, shuffle=True)\n",
    "val_loader = DataLoader(test_dataset, batch_size=128, shuffle=False)\n",
    "\n"
   ]
  },
  {
   "cell_type": "code",
   "execution_count": 39,
   "metadata": {},
   "outputs": [],
   "source": [
    "class GraphSAGE(nn.Module):\n",
    "    def __init__(self, input_features, hidden_features, output_features, num_layers):\n",
    "        super(GraphSAGE, self).__init__()\n",
    "        self.layers = nn.ModuleList()\n",
    "        self.layers.append(GraphSAGELayer(input_features, hidden_features, aggr='sum'))\n",
    "        for _ in range(num_layers - 1):\n",
    "            self.layers.append(GraphSAGELayer(hidden_features, hidden_features, aggr='sum'))\n",
    "        self.linear = nn.Linear(hidden_features, output_features)\n",
    "    def forward(self, x, edge_index, batch):\n",
    "        for layer in self.layers:\n",
    "            x = layer.propagate(x, edge_index)\n",
    "\n",
    "        # readout\n",
    "        x = global_mean_pool(x, batch)\n",
    "\n",
    "        x = self.linear(x)\n",
    "        return x\n",
    "    "
   ]
  },
  {
   "cell_type": "code",
   "execution_count": 19,
   "metadata": {},
   "outputs": [
    {
     "name": "stderr",
     "output_type": "stream",
     "text": [
      "100%|██████████| 300/300 [13:37<00:00,  2.72s/epoch, f1=0.763, loss=0.145]\n"
     ]
    }
   ],
   "source": [
    "\n",
    "### Max number of epochs\n",
    "max_epochs = 300\n",
    "\n",
    "### Number of features\n",
    "n_features, n_classes = 1, 10\n",
    "hidden_size = 8\n",
    "\n",
    "### DEFINE THE MODEL\n",
    "basic_model = GraphSAGE(n_features, hidden_size, n_classes, num_layers=4).to(device)\n",
    "\n",
    "### DEFINE LOSS FUNCTION\n",
    "loss_fcn = nn.BCEWithLogitsLoss()\n",
    "\n",
    "### DEFINE OPTIMIZER\n",
    "optimizer = torch.optim.Adam(basic_model.parameters(), lr=0.01)\n",
    "scheduler = torch.optim.lr_scheduler.ReduceLROnPlateau(optimizer, mode='min', factor=0.1, patience=20, min_lr=0.0001)\n",
    "\n",
    "### TRAIN THE MODEL\n",
    "epoch_list, basic_model_scores = train_graph_classification(\n",
    "    basic_model,\n",
    "    loss_fcn,\n",
    "    device,\n",
    "    optimizer,\n",
    "    max_epochs,\n",
    "    train_loader,\n",
    "    val_loader,\n",
    "    n_classes,\n",
    ")"
   ]
  },
  {
   "cell_type": "code",
   "execution_count": 41,
   "metadata": {},
   "outputs": [
    {
     "name": "stdout",
     "output_type": "stream",
     "text": [
      "\n",
      "Device:  cuda\n",
      "K-Fold: 1/12\n",
      "lr: 0.01, num_layers: 4, hidden_size: 8\n"
     ]
    },
    {
     "name": "stderr",
     "output_type": "stream",
     "text": [
      "100%|██████████| 150/150 [04:02<00:00,  1.62s/epoch, f1=0.697, loss=0.167]\n"
     ]
    },
    {
     "name": "stdout",
     "output_type": "stream",
     "text": [
      "Best model loaded\n",
      "Valid F1-score: 0.7274762426900585\n",
      "lr: 0.01, num_layers: 4, hidden_size: 16\n"
     ]
    },
    {
     "name": "stderr",
     "output_type": "stream",
     "text": [
      "100%|██████████| 150/150 [05:35<00:00,  2.24s/epoch, f1=0.739, loss=0.136]\n"
     ]
    },
    {
     "name": "stdout",
     "output_type": "stream",
     "text": [
      "Best model loaded\n",
      "Valid F1-score: 0.7951845760233919\n",
      "lr: 0.01, num_layers: 4, hidden_size: 32\n"
     ]
    },
    {
     "name": "stderr",
     "output_type": "stream",
     "text": [
      "100%|██████████| 150/150 [09:11<00:00,  3.68s/epoch, f1=0.719, loss=0.152]\n"
     ]
    },
    {
     "name": "stdout",
     "output_type": "stream",
     "text": [
      "Best model loaded\n",
      "Valid F1-score: 0.7521016081871346\n",
      "Test F1-score: 0.7720102163461539\n",
      "K-Fold: 2/12\n",
      "lr: 0.01, num_layers: 4, hidden_size: 8\n"
     ]
    },
    {
     "name": "stderr",
     "output_type": "stream",
     "text": [
      "100%|██████████| 150/150 [04:07<00:00,  1.65s/epoch, f1=0.37, loss=0.272] \n"
     ]
    },
    {
     "name": "stdout",
     "output_type": "stream",
     "text": [
      "Best model loaded\n",
      "Valid F1-score: 0.4769279970760234\n",
      "lr: 0.01, num_layers: 4, hidden_size: 16\n"
     ]
    },
    {
     "name": "stderr",
     "output_type": "stream",
     "text": [
      "100%|██████████| 150/150 [05:32<00:00,  2.22s/epoch, f1=0.769, loss=0.135]\n"
     ]
    },
    {
     "name": "stdout",
     "output_type": "stream",
     "text": [
      "Best model loaded\n",
      "Valid F1-score: 0.8093932748538012\n",
      "lr: 0.01, num_layers: 4, hidden_size: 32\n"
     ]
    },
    {
     "name": "stderr",
     "output_type": "stream",
     "text": [
      "100%|██████████| 150/150 [08:41<00:00,  3.47s/epoch, f1=0.713, loss=0.164]\n"
     ]
    },
    {
     "name": "stdout",
     "output_type": "stream",
     "text": [
      "Best model loaded\n",
      "Valid F1-score: 0.7210343567251463\n",
      "Test F1-score: 0.7566105769230769\n",
      "K-Fold: 3/12\n",
      "lr: 0.01, num_layers: 4, hidden_size: 8\n"
     ]
    },
    {
     "name": "stderr",
     "output_type": "stream",
     "text": [
      "100%|██████████| 150/150 [04:18<00:00,  1.73s/epoch, f1=0.639, loss=0.177]\n"
     ]
    },
    {
     "name": "stdout",
     "output_type": "stream",
     "text": [
      "Best model loaded\n",
      "Valid F1-score: 0.7166483918128654\n",
      "lr: 0.01, num_layers: 4, hidden_size: 16\n"
     ]
    },
    {
     "name": "stderr",
     "output_type": "stream",
     "text": [
      "100%|██████████| 150/150 [06:26<00:00,  2.58s/epoch, f1=0.286, loss=0.272]\n"
     ]
    },
    {
     "name": "stdout",
     "output_type": "stream",
     "text": [
      "Best model loaded\n",
      "Valid F1-score: 0.5807748538011697\n",
      "lr: 0.01, num_layers: 4, hidden_size: 32\n"
     ]
    },
    {
     "name": "stderr",
     "output_type": "stream",
     "text": [
      "100%|██████████| 150/150 [08:45<00:00,  3.50s/epoch, f1=0.521, loss=0.228]\n"
     ]
    },
    {
     "name": "stdout",
     "output_type": "stream",
     "text": [
      "Best model loaded\n",
      "Valid F1-score: 0.7838541666666666\n",
      "Test F1-score: 0.8040865384615384\n",
      "K-Fold: 4/12\n",
      "lr: 0.01, num_layers: 4, hidden_size: 8\n"
     ]
    },
    {
     "name": "stderr",
     "output_type": "stream",
     "text": [
      "100%|██████████| 150/150 [04:19<00:00,  1.73s/epoch, f1=0.531, loss=0.242]\n"
     ]
    },
    {
     "name": "stdout",
     "output_type": "stream",
     "text": [
      "Best model loaded\n",
      "Valid F1-score: 0.5953490497076024\n",
      "lr: 0.01, num_layers: 4, hidden_size: 16\n"
     ]
    },
    {
     "name": "stderr",
     "output_type": "stream",
     "text": [
      "100%|██████████| 150/150 [05:58<00:00,  2.39s/epoch, f1=0.116, loss=0.325]\n"
     ]
    },
    {
     "name": "stdout",
     "output_type": "stream",
     "text": [
      "Best model loaded\n",
      "Valid F1-score: 0.4299159356725146\n",
      "lr: 0.01, num_layers: 4, hidden_size: 32\n"
     ]
    },
    {
     "name": "stderr",
     "output_type": "stream",
     "text": [
      "100%|██████████| 150/150 [09:15<00:00,  3.71s/epoch, f1=0.759, loss=0.139]\n"
     ]
    },
    {
     "name": "stdout",
     "output_type": "stream",
     "text": [
      "Best model loaded\n",
      "Valid F1-score: 0.7746253654970761\n",
      "Test F1-score: 0.8188852163461539\n",
      "K-Fold: 5/12\n",
      "lr: 0.01, num_layers: 4, hidden_size: 8\n"
     ]
    },
    {
     "name": "stderr",
     "output_type": "stream",
     "text": [
      "100%|██████████| 150/150 [04:01<00:00,  1.61s/epoch, f1=0.671, loss=0.173]\n"
     ]
    },
    {
     "name": "stdout",
     "output_type": "stream",
     "text": [
      "Best model loaded\n",
      "Valid F1-score: 0.7166483918128654\n",
      "lr: 0.01, num_layers: 4, hidden_size: 16\n"
     ]
    },
    {
     "name": "stderr",
     "output_type": "stream",
     "text": [
      "100%|██████████| 150/150 [05:42<00:00,  2.28s/epoch, f1=0.773, loss=0.141]\n"
     ]
    },
    {
     "name": "stdout",
     "output_type": "stream",
     "text": [
      "Best model loaded\n",
      "Valid F1-score: 0.7841739766081871\n",
      "lr: 0.01, num_layers: 4, hidden_size: 32\n"
     ]
    },
    {
     "name": "stderr",
     "output_type": "stream",
     "text": [
      "100%|██████████| 150/150 [08:43<00:00,  3.49s/epoch, f1=0.795, loss=0.118]\n"
     ]
    },
    {
     "name": "stdout",
     "output_type": "stream",
     "text": [
      "Best model loaded\n",
      "Valid F1-score: 0.8276681286549707\n",
      "Test F1-score: 0.7940204326923077\n",
      "K-Fold: 6/12\n",
      "lr: 0.01, num_layers: 4, hidden_size: 8\n"
     ]
    },
    {
     "name": "stderr",
     "output_type": "stream",
     "text": [
      "100%|██████████| 150/150 [04:14<00:00,  1.69s/epoch, f1=0.677, loss=0.173]\n"
     ]
    },
    {
     "name": "stdout",
     "output_type": "stream",
     "text": [
      "Best model loaded\n",
      "Valid F1-score: 0.7086531432748537\n",
      "lr: 0.01, num_layers: 4, hidden_size: 16\n"
     ]
    },
    {
     "name": "stderr",
     "output_type": "stream",
     "text": [
      "100%|██████████| 150/150 [05:49<00:00,  2.33s/epoch, f1=0.76, loss=0.149] \n"
     ]
    },
    {
     "name": "stdout",
     "output_type": "stream",
     "text": [
      "Best model loaded\n",
      "Valid F1-score: 0.7648026315789473\n",
      "lr: 0.01, num_layers: 4, hidden_size: 32\n"
     ]
    },
    {
     "name": "stderr",
     "output_type": "stream",
     "text": [
      "100%|██████████| 150/150 [08:43<00:00,  3.49s/epoch, f1=0.717, loss=0.146]\n"
     ]
    },
    {
     "name": "stdout",
     "output_type": "stream",
     "text": [
      "Best model loaded\n",
      "Valid F1-score: 0.741593567251462\n",
      "Test F1-score: 0.7418118990384616\n",
      "K-Fold: 7/12\n",
      "lr: 0.01, num_layers: 4, hidden_size: 8\n"
     ]
    },
    {
     "name": "stderr",
     "output_type": "stream",
     "text": [
      "100%|██████████| 150/150 [04:16<00:00,  1.71s/epoch, f1=0.623, loss=0.209]\n"
     ]
    },
    {
     "name": "stdout",
     "output_type": "stream",
     "text": [
      "Best model loaded\n",
      "Valid F1-score: 0.6228070175438597\n",
      "lr: 0.01, num_layers: 4, hidden_size: 16\n"
     ]
    },
    {
     "name": "stderr",
     "output_type": "stream",
     "text": [
      "100%|██████████| 150/150 [05:51<00:00,  2.34s/epoch, f1=0.745, loss=0.137]\n"
     ]
    },
    {
     "name": "stdout",
     "output_type": "stream",
     "text": [
      "Best model loaded\n",
      "Valid F1-score: 0.8053728070175439\n",
      "lr: 0.01, num_layers: 4, hidden_size: 32\n"
     ]
    },
    {
     "name": "stderr",
     "output_type": "stream",
     "text": [
      "100%|██████████| 150/150 [09:17<00:00,  3.71s/epoch, f1=0.765, loss=0.144]\n"
     ]
    },
    {
     "name": "stdout",
     "output_type": "stream",
     "text": [
      "Best model loaded\n",
      "Valid F1-score: 0.791438230994152\n",
      "Test F1-score: 0.7631460336538461\n",
      "K-Fold: 8/12\n",
      "lr: 0.01, num_layers: 4, hidden_size: 8\n"
     ]
    },
    {
     "name": "stderr",
     "output_type": "stream",
     "text": [
      "100%|██████████| 150/150 [04:34<00:00,  1.83s/epoch, f1=0.58, loss=0.2]   \n"
     ]
    },
    {
     "name": "stdout",
     "output_type": "stream",
     "text": [
      "Best model loaded\n",
      "Valid F1-score: 0.6112938596491229\n",
      "lr: 0.01, num_layers: 4, hidden_size: 16\n"
     ]
    },
    {
     "name": "stderr",
     "output_type": "stream",
     "text": [
      "100%|██████████| 150/150 [05:55<00:00,  2.37s/epoch, f1=0.753, loss=0.147]\n"
     ]
    },
    {
     "name": "stdout",
     "output_type": "stream",
     "text": [
      "Best model loaded\n",
      "Valid F1-score: 0.7526955409356726\n",
      "lr: 0.01, num_layers: 4, hidden_size: 32\n"
     ]
    },
    {
     "name": "stderr",
     "output_type": "stream",
     "text": [
      "100%|██████████| 150/150 [08:17<00:00,  3.32s/epoch, f1=0.761, loss=0.13] \n"
     ]
    },
    {
     "name": "stdout",
     "output_type": "stream",
     "text": [
      "Best model loaded\n",
      "Valid F1-score: 0.7888797514619883\n",
      "Test F1-score: 0.7704326923076923\n",
      "K-Fold: 9/12\n",
      "lr: 0.01, num_layers: 4, hidden_size: 8\n"
     ]
    },
    {
     "name": "stderr",
     "output_type": "stream",
     "text": [
      "100%|██████████| 150/150 [04:00<00:00,  1.60s/epoch, f1=0.72, loss=0.161] \n"
     ]
    },
    {
     "name": "stdout",
     "output_type": "stream",
     "text": [
      "Best model loaded\n",
      "Valid F1-score: 0.7326845760233919\n",
      "lr: 0.01, num_layers: 4, hidden_size: 16\n"
     ]
    },
    {
     "name": "stderr",
     "output_type": "stream",
     "text": [
      "100%|██████████| 150/150 [05:16<00:00,  2.11s/epoch, f1=0.684, loss=0.176]\n"
     ]
    },
    {
     "name": "stdout",
     "output_type": "stream",
     "text": [
      "Best model loaded\n",
      "Valid F1-score: 0.7022112573099415\n",
      "lr: 0.01, num_layers: 4, hidden_size: 32\n"
     ]
    },
    {
     "name": "stderr",
     "output_type": "stream",
     "text": [
      "100%|██████████| 150/150 [08:02<00:00,  3.22s/epoch, f1=0.783, loss=0.141]\n"
     ]
    },
    {
     "name": "stdout",
     "output_type": "stream",
     "text": [
      "Best model loaded\n",
      "Valid F1-score: 0.799250730994152\n",
      "Test F1-score: 0.7460186298076923\n",
      "K-Fold: 10/12\n",
      "lr: 0.01, num_layers: 4, hidden_size: 8\n"
     ]
    },
    {
     "name": "stderr",
     "output_type": "stream",
     "text": [
      "100%|██████████| 150/150 [03:55<00:00,  1.57s/epoch, f1=0.618, loss=0.201]\n"
     ]
    },
    {
     "name": "stdout",
     "output_type": "stream",
     "text": [
      "Best model loaded\n",
      "Valid F1-score: 0.6184667397660819\n",
      "lr: 0.01, num_layers: 4, hidden_size: 16\n"
     ]
    },
    {
     "name": "stderr",
     "output_type": "stream",
     "text": [
      "100%|██████████| 150/150 [05:14<00:00,  2.10s/epoch, f1=0.713, loss=0.151]\n"
     ]
    },
    {
     "name": "stdout",
     "output_type": "stream",
     "text": [
      "Best model loaded\n",
      "Valid F1-score: 0.749406067251462\n",
      "lr: 0.01, num_layers: 4, hidden_size: 32\n"
     ]
    },
    {
     "name": "stderr",
     "output_type": "stream",
     "text": [
      "100%|██████████| 150/150 [08:01<00:00,  3.21s/epoch, f1=0.79, loss=0.12]  \n"
     ]
    },
    {
     "name": "stdout",
     "output_type": "stream",
     "text": [
      "Best model loaded\n",
      "Valid F1-score: 0.8026772660818714\n",
      "Test F1-score: 0.798828125\n",
      "K-Fold: 11/12\n",
      "lr: 0.01, num_layers: 4, hidden_size: 8\n"
     ]
    },
    {
     "name": "stderr",
     "output_type": "stream",
     "text": [
      "100%|██████████| 150/150 [03:55<00:00,  1.57s/epoch, f1=0.707, loss=0.161]\n"
     ]
    },
    {
     "name": "stdout",
     "output_type": "stream",
     "text": [
      "Best model loaded\n",
      "Valid F1-score: 0.7200749269005847\n",
      "lr: 0.01, num_layers: 4, hidden_size: 16\n"
     ]
    },
    {
     "name": "stderr",
     "output_type": "stream",
     "text": [
      "100%|██████████| 150/150 [05:14<00:00,  2.10s/epoch, f1=0.741, loss=0.143]\n"
     ]
    },
    {
     "name": "stdout",
     "output_type": "stream",
     "text": [
      "Best model loaded\n",
      "Valid F1-score: 0.7757218567251463\n",
      "lr: 0.01, num_layers: 4, hidden_size: 32\n"
     ]
    },
    {
     "name": "stderr",
     "output_type": "stream",
     "text": [
      "100%|██████████| 150/150 [08:00<00:00,  3.20s/epoch, f1=0.795, loss=0.114]\n"
     ]
    },
    {
     "name": "stdout",
     "output_type": "stream",
     "text": [
      "Best model loaded\n",
      "Valid F1-score: 0.813642178362573\n",
      "Test F1-score: 0.8082932692307692\n",
      "K-Fold: 12/12\n",
      "lr: 0.01, num_layers: 4, hidden_size: 8\n"
     ]
    },
    {
     "name": "stderr",
     "output_type": "stream",
     "text": [
      "100%|██████████| 150/150 [03:56<00:00,  1.58s/epoch, f1=0.663, loss=0.205]\n"
     ]
    },
    {
     "name": "stdout",
     "output_type": "stream",
     "text": [
      "Best model loaded\n",
      "Valid F1-score: 0.6625548245614036\n",
      "lr: 0.01, num_layers: 4, hidden_size: 16\n"
     ]
    },
    {
     "name": "stderr",
     "output_type": "stream",
     "text": [
      "100%|██████████| 150/150 [05:15<00:00,  2.10s/epoch, f1=0.76, loss=0.121] \n"
     ]
    },
    {
     "name": "stdout",
     "output_type": "stream",
     "text": [
      "Best model loaded\n",
      "Valid F1-score: 0.7830317982456141\n",
      "lr: 0.01, num_layers: 4, hidden_size: 32\n"
     ]
    },
    {
     "name": "stderr",
     "output_type": "stream",
     "text": [
      "100%|██████████| 150/150 [08:02<00:00,  3.22s/epoch, f1=0.491, loss=0.242]\n"
     ]
    },
    {
     "name": "stdout",
     "output_type": "stream",
     "text": [
      "Best model loaded\n",
      "Valid F1-score: 0.7511878654970761\n",
      "Test F1-score: 0.8429987980769231\n"
     ]
    }
   ],
   "source": [
    "train_dataset, test_dataset = load_mnist_graph(subset=6000)\n",
    "\n",
    "# gather all data in one dataset (train/val/test)   \n",
    "all_data = train_dataset + test_dataset\n",
    "all_loader = DataLoader(all_data, batch_size=128, shuffle=False)\n",
    "\n",
    "### Max number of epochs\n",
    "max_epochs = 150\n",
    "\n",
    "### Number of features\n",
    "n_features, n_classes = 1, 10\n",
    "\n",
    "### DEVICE GPU OR CPU : will select GPU if available\n",
    "device = torch.device(\"cuda\" if torch.cuda.is_available() else \"cpu\")\n",
    "print(\"\\nDevice: \", device)\n",
    "\n",
    "\n",
    "K = 12\n",
    "best_score = 0\n",
    "best_model = None\n",
    "best_hyperparameters = None\n",
    "results = pd.DataFrame(columns=['K', 'valid_score', 'test_score', 'lr', 'num_layers', 'hidden_size'])\n",
    "for k in range(K):\n",
    "    print(f\"K-Fold: {k+1}/{K}\")\n",
    "    # split the data into train and test\n",
    "    n = len(all_data)//K \n",
    "    test_range_index = np.arange(k*n, (k+1)*n)\n",
    "    # all the rest for train\n",
    "    train_range_index = np.setdiff1d(np.arange(len(all_data)), test_range_index)\n",
    "    train_out = torch.utils.data.Subset(all_data, train_range_index)\n",
    "    test = torch.utils.data.Subset(all_data, test_range_index)\n",
    "\n",
    "    # randomly choose 10% of the train_out data to be the validation set\n",
    "    n = len(train_out)//10\n",
    "    val_range_index = np.random.choice(len(train_out), n, replace=False)\n",
    "    val = torch.utils.data.Subset(train_out, val_range_index)\n",
    "    train_in = torch.utils.data.Subset(train_out, np.setdiff1d(np.arange(len(train_out)), val_range_index))\n",
    "\n",
    "    \n",
    "\n",
    "    # create the dataloader\n",
    "    train_in_loader = DataLoader(train_in, batch_size=128, shuffle=True)\n",
    "    val_loader = DataLoader(val, batch_size=128, shuffle=False)\n",
    "    test_loader = DataLoader(test, batch_size=128, shuffle=False)\n",
    "\n",
    "\n",
    "    # define hyperparameters grid\n",
    "    hyperparameters = {\n",
    "        'lr': [0.01],\n",
    "        'num_layers': [4],\n",
    "        'hidden_size': [8, 16, 32]\n",
    "    }\n",
    "\n",
    "    best_score = 0\n",
    "    for lr in hyperparameters['lr']:\n",
    "        for num_layers in hyperparameters['num_layers']:\n",
    "            for hidden_size in hyperparameters['hidden_size']:\n",
    "                print(f\"lr: {lr}, num_layers: {num_layers}, hidden_size: {hidden_size}\")\n",
    "                ### DEFINE THE MODEL\n",
    "                basic_model = GraphSAGE(n_features, hidden_size, n_classes, num_layers).to(device)\n",
    "\n",
    "                ### DEFINE LOSS FUNCTION\n",
    "                loss_fcn = nn.BCEWithLogitsLoss()\n",
    "\n",
    "                ### DEFINE OPTIMIZER\n",
    "                optimizer = torch.optim.Adam(basic_model.parameters(), lr=lr)\n",
    "                scheduler = torch.optim.lr_scheduler.ReduceLROnPlateau(optimizer, mode='min', factor=0.1, patience=5, min_lr=0.0001)\n",
    "\n",
    "                ### TRAIN THE MODEL\n",
    "                epoch_list, basic_model_scores = train_graph_classification(\n",
    "                    basic_model,\n",
    "                    loss_fcn,\n",
    "                    device,\n",
    "                    optimizer,\n",
    "                    max_epochs,\n",
    "                    train_in_loader,\n",
    "                    val_loader,\n",
    "                    n_classes,\n",
    "                    save_best=True\n",
    "                )\n",
    "\n",
    "                # evaluate the model on the test set\n",
    "                valid_score = evaluate_graph_classification(basic_model, device, val_loader)\n",
    "                print(f\"Valid F1-score: {valid_score}\")\n",
    "\n",
    "                # save the best model\n",
    "                if valid_score > best_score:\n",
    "                    best_score = valid_score\n",
    "                    del best_model\n",
    "                    best_model = deepcopy(basic_model)\n",
    "                    best_hyperparameters = {\n",
    "                        'lr': lr,\n",
    "                        'num_layers': num_layers,\n",
    "                        'hidden_size': hidden_size\n",
    "                    }\n",
    "                results.loc[len(results.index)] = [k, valid_score, 0, lr, num_layers, hidden_size]\n",
    "\n",
    "                del basic_model\n",
    "                del optimizer\n",
    "                del scheduler\n",
    "                torch.cuda.empty_cache()\n",
    "                \n",
    "\n",
    "    # evaluate the best model on the test set\n",
    "    test_score = evaluate_graph_classification(best_model, device, test_loader)\n",
    "    print(f\"Test F1-score: {test_score}\")\n",
    "\n",
    "    # save the results in dataframe\n",
    "    results.loc[len(results.index)] = [k, best_score, test_score, best_hyperparameters['lr'], best_hyperparameters['num_layers'], best_hyperparameters['hidden_size']]\n",
    "\n",
    "# save the results in a csv file\n",
    "results.to_csv('sage_mnist.csv', index=False)"
   ]
  },
  {
   "cell_type": "code",
   "execution_count": 42,
   "metadata": {},
   "outputs": [],
   "source": [
    "# save the results in a csv file\n",
    "results.to_csv('sage_mnist.csv', index=False)"
   ]
  },
  {
   "cell_type": "code",
   "execution_count": 43,
   "metadata": {},
   "outputs": [
    {
     "name": "stdout",
     "output_type": "stream",
     "text": [
      "Mean test score: 0.7847618689903847\n",
      "Std test score: 0.031246964921329355\n"
     ]
    }
   ],
   "source": [
    "# see the mean and std of the results for the test set\n",
    "test_results = results[results['test_score'] != 0].test_score\n",
    "print(f\"Mean test score: {test_results.mean()}\")\n",
    "print(f\"Std test score: {test_results.std()}\")"
   ]
  }
 ],
 "metadata": {
  "kernelspec": {
   "display_name": "Python 3",
   "language": "python",
   "name": "python3"
  },
  "language_info": {
   "codemirror_mode": {
    "name": "ipython",
    "version": 3
   },
   "file_extension": ".py",
   "mimetype": "text/x-python",
   "name": "python",
   "nbconvert_exporter": "python",
   "pygments_lexer": "ipython3",
   "version": "3.11.4"
  }
 },
 "nbformat": 4,
 "nbformat_minor": 2
}
