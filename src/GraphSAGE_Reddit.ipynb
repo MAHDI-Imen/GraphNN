{
 "cells": [
  {
   "cell_type": "code",
   "execution_count": 1,
   "metadata": {},
   "outputs": [],
   "source": [
    "from torch_geometric.loader import DataLoader\n",
    "\n",
    "from data import load_mnist_graph\n",
    "\n",
    "from torch_geometric.nn import global_add_pool, global_mean_pool, global_max_pool\n",
    "\n",
    "from layers import GraphSAGELayer\n",
    "from transforms import AddDegreeFeature\n",
    "import numpy as np\n",
    "import torch\n",
    "import torch.nn as nn\n",
    "import torch.nn.functional as F\n",
    "import pandas as pd\n",
    "\n",
    "from train import train_graph_classification, evaluate_graph_classification\n",
    "from copy import deepcopy\n",
    "device = torch.device('cuda' if torch.cuda.is_available() else 'cpu')\n",
    "\n",
    "from torch_geometric.datasets import TUDataset\n",
    "\n",
    "%reload_ext autoreload\n",
    "%autoreload 2"
   ]
  },
  {
   "cell_type": "code",
   "execution_count": 2,
   "metadata": {},
   "outputs": [],
   "source": [
    "# load reddit binary dataset\n",
    "dataset = TUDataset(root='data',name=\"REDDIT-BINARY\", transform=AddDegreeFeature())\n",
    "\n",
    "# split dataset into train and test\n",
    "train_dataset = dataset[:1500]\n",
    "test_dataset = dataset[1500:]"
   ]
  },
  {
   "cell_type": "code",
   "execution_count": 3,
   "metadata": {},
   "outputs": [],
   "source": [
    "train_loader = DataLoader(train_dataset, batch_size=32, shuffle=True)\n",
    "val_loader = DataLoader(test_dataset, batch_size=32, shuffle=False)"
   ]
  },
  {
   "cell_type": "code",
   "execution_count": 17,
   "metadata": {},
   "outputs": [],
   "source": [
    "class GraphSAGE(nn.Module):\n",
    "    def __init__(self, input_features, hidden_features, output_features, num_layers):\n",
    "        super(GraphSAGE, self).__init__()\n",
    "        self.layers = nn.ModuleList()\n",
    "        self.layers.append(GraphSAGELayer(input_features, hidden_features, aggr='sum'))\n",
    "        for _ in range(num_layers - 1):\n",
    "            self.layers.append(GraphSAGELayer(hidden_features, hidden_features, aggr='sum'))\n",
    "        self.linear = nn.Linear(hidden_features, output_features)\n",
    "\n",
    "        # initialize all weights\n",
    "        self.reset_parameters()\n",
    "        \n",
    "    def forward(self, x, edge_index, batch):\n",
    "        for layer in self.layers:\n",
    "            x = layer.propagate(x, edge_index)\n",
    "\n",
    "        # readout\n",
    "        x = global_mean_pool(x, batch)\n",
    "\n",
    "        x = self.linear(x)\n",
    "        x = F.sigmoid(x)\n",
    "        return x\n",
    "    \n",
    "    def reset_parameters(self):\n",
    "        for layer in self.layers:\n",
    "            layer.reset_parameters()\n",
    "        self.linear.reset_parameters()\n",
    "    \n",
    "        \n",
    "    "
   ]
  },
  {
   "cell_type": "code",
   "execution_count": 9,
   "metadata": {},
   "outputs": [
    {
     "name": "stderr",
     "output_type": "stream",
     "text": [
      "100%|██████████| 20/20 [00:14<00:00,  1.39epoch/s, f1=0.8, loss=0.602]  \n"
     ]
    }
   ],
   "source": [
    "\n",
    "### Max number of epochs\n",
    "max_epochs = 20\n",
    "\n",
    "### Number of features\n",
    "n_features, n_classes = 1,2\n",
    "hidden_size = 64\n",
    "\n",
    "### DEFINE THE MODEL\n",
    "basic_model = GraphSAGE(n_features, hidden_size, n_classes, num_layers=2).to(device)\n",
    "\n",
    "### DEFINE LOSS FUNCTION\n",
    "loss_fcn = nn.BCEWithLogitsLoss()\n",
    "\n",
    "### DEFINE OPTIMIZER\n",
    "optimizer = torch.optim.Adam(basic_model.parameters(), lr=0.001)\n",
    "\n",
    "\n",
    "### TRAIN THE MODEL\n",
    "epoch_list, basic_model_scores = train_graph_classification(\n",
    "    basic_model,\n",
    "    loss_fcn,\n",
    "    device,\n",
    "    optimizer,\n",
    "    max_epochs,\n",
    "    train_loader,\n",
    "    val_loader,\n",
    "    n_classes,\n",
    ")"
   ]
  },
  {
   "cell_type": "code",
   "execution_count": 19,
   "metadata": {},
   "outputs": [
    {
     "name": "stdout",
     "output_type": "stream",
     "text": [
      "\n",
      "Device:  cuda\n",
      "K-Fold: 1/12\n",
      "lr: 0.01, num_layers: 2, hidden_size: 16\n"
     ]
    },
    {
     "name": "stderr",
     "output_type": "stream",
     "text": [
      "  0%|          | 0/40 [00:00<?, ?epoch/s]"
     ]
    },
    {
     "name": "stderr",
     "output_type": "stream",
     "text": [
      "100%|██████████| 40/40 [00:15<00:00,  2.58epoch/s, f1=0.816, loss=0.377]\n"
     ]
    },
    {
     "name": "stdout",
     "output_type": "stream",
     "text": [
      "Best model loaded\n",
      "Valid F1-score: 0.8528079710144928\n",
      "lr: 0.01, num_layers: 2, hidden_size: 32\n"
     ]
    },
    {
     "name": "stderr",
     "output_type": "stream",
     "text": [
      "100%|██████████| 40/40 [00:15<00:00,  2.61epoch/s, f1=0.506, loss=50.5]\n"
     ]
    },
    {
     "name": "stdout",
     "output_type": "stream",
     "text": [
      "Best model loaded\n",
      "Valid F1-score: 0.5063405797101449\n",
      "lr: 0.01, num_layers: 3, hidden_size: 16\n"
     ]
    },
    {
     "name": "stderr",
     "output_type": "stream",
     "text": [
      "100%|██████████| 40/40 [00:16<00:00,  2.38epoch/s, f1=0.506, loss=50.5]\n"
     ]
    },
    {
     "name": "stdout",
     "output_type": "stream",
     "text": [
      "Best model loaded\n",
      "Valid F1-score: 0.5063405797101449\n",
      "lr: 0.01, num_layers: 3, hidden_size: 32\n"
     ]
    },
    {
     "name": "stderr",
     "output_type": "stream",
     "text": [
      "100%|██████████| 40/40 [00:16<00:00,  2.44epoch/s, f1=0.506, loss=50.5]\n"
     ]
    },
    {
     "name": "stdout",
     "output_type": "stream",
     "text": [
      "Best model loaded\n",
      "Valid F1-score: 0.5063405797101449\n",
      "lr: 0.001, num_layers: 2, hidden_size: 16\n"
     ]
    },
    {
     "name": "stderr",
     "output_type": "stream",
     "text": [
      "100%|██████████| 40/40 [00:14<00:00,  2.73epoch/s, f1=0.747, loss=0.526]\n"
     ]
    },
    {
     "name": "stdout",
     "output_type": "stream",
     "text": [
      "Best model loaded\n",
      "Valid F1-score: 0.7533967391304347\n",
      "lr: 0.001, num_layers: 2, hidden_size: 32\n"
     ]
    },
    {
     "name": "stderr",
     "output_type": "stream",
     "text": [
      "100%|██████████| 40/40 [00:15<00:00,  2.66epoch/s, f1=0.745, loss=0.568]\n"
     ]
    },
    {
     "name": "stdout",
     "output_type": "stream",
     "text": [
      "Best model loaded\n",
      "Valid F1-score: 0.7903079710144928\n",
      "lr: 0.001, num_layers: 3, hidden_size: 16\n"
     ]
    },
    {
     "name": "stderr",
     "output_type": "stream",
     "text": [
      "100%|██████████| 40/40 [00:15<00:00,  2.63epoch/s, f1=0.55, loss=15.2] \n"
     ]
    },
    {
     "name": "stdout",
     "output_type": "stream",
     "text": [
      "Best model loaded\n",
      "Valid F1-score: 0.7736639492753623\n",
      "lr: 0.001, num_layers: 3, hidden_size: 32\n"
     ]
    },
    {
     "name": "stderr",
     "output_type": "stream",
     "text": [
      "100%|██████████| 40/40 [00:16<00:00,  2.45epoch/s, f1=0.661, loss=9.17]\n"
     ]
    },
    {
     "name": "stdout",
     "output_type": "stream",
     "text": [
      "Best model loaded\n",
      "Valid F1-score: 0.7752490942028986\n",
      "Test F1-score: 0.8659539473684211\n",
      "K-Fold: 2/12\n",
      "lr: 0.01, num_layers: 2, hidden_size: 16\n"
     ]
    },
    {
     "name": "stderr",
     "output_type": "stream",
     "text": [
      "100%|██████████| 40/40 [00:14<00:00,  2.68epoch/s, f1=0.746, loss=0.524]\n"
     ]
    },
    {
     "name": "stdout",
     "output_type": "stream",
     "text": [
      "Best model loaded\n",
      "Valid F1-score: 0.7596240942028986\n",
      "lr: 0.01, num_layers: 2, hidden_size: 32\n"
     ]
    },
    {
     "name": "stderr",
     "output_type": "stream",
     "text": [
      "100%|██████████| 40/40 [00:15<00:00,  2.63epoch/s, f1=0.48, loss=49.3]\n"
     ]
    },
    {
     "name": "stdout",
     "output_type": "stream",
     "text": [
      "Best model loaded\n",
      "Valid F1-score: 0.4801856884057971\n",
      "lr: 0.01, num_layers: 3, hidden_size: 16\n"
     ]
    },
    {
     "name": "stderr",
     "output_type": "stream",
     "text": [
      "100%|██████████| 40/40 [00:15<00:00,  2.62epoch/s, f1=0.48, loss=49.3]\n"
     ]
    },
    {
     "name": "stdout",
     "output_type": "stream",
     "text": [
      "Best model loaded\n",
      "Valid F1-score: 0.4801856884057971\n",
      "lr: 0.01, num_layers: 3, hidden_size: 32\n"
     ]
    },
    {
     "name": "stderr",
     "output_type": "stream",
     "text": [
      "100%|██████████| 40/40 [00:16<00:00,  2.46epoch/s, f1=0.48, loss=49.3]\n"
     ]
    },
    {
     "name": "stdout",
     "output_type": "stream",
     "text": [
      "Best model loaded\n",
      "Valid F1-score: 0.4801856884057971\n",
      "lr: 0.001, num_layers: 2, hidden_size: 16\n"
     ]
    },
    {
     "name": "stderr",
     "output_type": "stream",
     "text": [
      "100%|██████████| 40/40 [00:14<00:00,  2.69epoch/s, f1=0.729, loss=0.531]\n"
     ]
    },
    {
     "name": "stdout",
     "output_type": "stream",
     "text": [
      "Best model loaded\n",
      "Valid F1-score: 0.7455842391304347\n",
      "lr: 0.001, num_layers: 2, hidden_size: 32\n"
     ]
    },
    {
     "name": "stderr",
     "output_type": "stream",
     "text": [
      "100%|██████████| 40/40 [00:15<00:00,  2.64epoch/s, f1=0.677, loss=0.623]\n"
     ]
    },
    {
     "name": "stdout",
     "output_type": "stream",
     "text": [
      "Best model loaded\n",
      "Valid F1-score: 0.7544157608695653\n",
      "lr: 0.001, num_layers: 3, hidden_size: 16\n"
     ]
    },
    {
     "name": "stderr",
     "output_type": "stream",
     "text": [
      "100%|██████████| 40/40 [00:15<00:00,  2.58epoch/s, f1=0.48, loss=45.7] \n"
     ]
    },
    {
     "name": "stdout",
     "output_type": "stream",
     "text": [
      "Best model loaded\n",
      "Valid F1-score: 0.7664175724637681\n",
      "lr: 0.001, num_layers: 3, hidden_size: 32\n"
     ]
    },
    {
     "name": "stderr",
     "output_type": "stream",
     "text": [
      "100%|██████████| 40/40 [00:17<00:00,  2.33epoch/s, f1=0.708, loss=0.646]\n"
     ]
    },
    {
     "name": "stdout",
     "output_type": "stream",
     "text": [
      "Best model loaded\n",
      "Valid F1-score: 0.7518115942028986\n",
      "Test F1-score: 0.8171600877192983\n",
      "K-Fold: 3/12\n",
      "lr: 0.01, num_layers: 2, hidden_size: 16\n"
     ]
    },
    {
     "name": "stderr",
     "output_type": "stream",
     "text": [
      "100%|██████████| 40/40 [00:15<00:00,  2.52epoch/s, f1=0.741, loss=0.516]\n"
     ]
    },
    {
     "name": "stdout",
     "output_type": "stream",
     "text": [
      "Best model loaded\n",
      "Valid F1-score: 0.7565670289855072\n",
      "lr: 0.01, num_layers: 2, hidden_size: 32\n"
     ]
    },
    {
     "name": "stderr",
     "output_type": "stream",
     "text": [
      "100%|██████████| 40/40 [00:16<00:00,  2.46epoch/s, f1=0.777, loss=0.49] \n"
     ]
    },
    {
     "name": "stdout",
     "output_type": "stream",
     "text": [
      "Best model loaded\n",
      "Valid F1-score: 0.8189538043478262\n",
      "lr: 0.01, num_layers: 3, hidden_size: 16\n"
     ]
    },
    {
     "name": "stderr",
     "output_type": "stream",
     "text": [
      "100%|██████████| 40/40 [00:16<00:00,  2.45epoch/s, f1=0.487, loss=49.4]\n"
     ]
    },
    {
     "name": "stdout",
     "output_type": "stream",
     "text": [
      "Best model loaded\n",
      "Valid F1-score: 0.4865262681159421\n",
      "lr: 0.01, num_layers: 3, hidden_size: 32\n"
     ]
    },
    {
     "name": "stderr",
     "output_type": "stream",
     "text": [
      "100%|██████████| 40/40 [00:17<00:00,  2.31epoch/s, f1=0.487, loss=49.4]\n"
     ]
    },
    {
     "name": "stdout",
     "output_type": "stream",
     "text": [
      "Best model loaded\n",
      "Valid F1-score: 0.4865262681159421\n",
      "lr: 0.001, num_layers: 2, hidden_size: 16\n"
     ]
    },
    {
     "name": "stderr",
     "output_type": "stream",
     "text": [
      "100%|██████████| 40/40 [00:15<00:00,  2.52epoch/s, f1=0.736, loss=0.539]\n"
     ]
    },
    {
     "name": "stdout",
     "output_type": "stream",
     "text": [
      "Best model loaded\n",
      "Valid F1-score: 0.7461503623188405\n",
      "lr: 0.001, num_layers: 2, hidden_size: 32\n"
     ]
    },
    {
     "name": "stderr",
     "output_type": "stream",
     "text": [
      "100%|██████████| 40/40 [00:16<00:00,  2.46epoch/s, f1=0.76, loss=0.746] \n"
     ]
    },
    {
     "name": "stdout",
     "output_type": "stream",
     "text": [
      "Best model loaded\n",
      "Valid F1-score: 0.7716259057971014\n",
      "lr: 0.001, num_layers: 3, hidden_size: 16\n"
     ]
    },
    {
     "name": "stderr",
     "output_type": "stream",
     "text": [
      "100%|██████████| 40/40 [00:16<00:00,  2.45epoch/s, f1=0.709, loss=3.47] \n"
     ]
    },
    {
     "name": "stdout",
     "output_type": "stream",
     "text": [
      "Best model loaded\n",
      "Valid F1-score: 0.7732110507246377\n",
      "lr: 0.001, num_layers: 3, hidden_size: 32\n"
     ]
    },
    {
     "name": "stderr",
     "output_type": "stream",
     "text": [
      "100%|██████████| 40/40 [00:17<00:00,  2.31epoch/s, f1=0.487, loss=49.3]\n"
     ]
    },
    {
     "name": "stdout",
     "output_type": "stream",
     "text": [
      "Best model loaded\n",
      "Valid F1-score: 0.7429800724637681\n",
      "Test F1-score: 0.8519736842105262\n",
      "K-Fold: 4/12\n",
      "lr: 0.01, num_layers: 2, hidden_size: 16\n"
     ]
    },
    {
     "name": "stderr",
     "output_type": "stream",
     "text": [
      "100%|██████████| 40/40 [00:15<00:00,  2.52epoch/s, f1=0.794, loss=0.426]\n"
     ]
    },
    {
     "name": "stdout",
     "output_type": "stream",
     "text": [
      "Best model loaded\n",
      "Valid F1-score: 0.8568840579710145\n",
      "lr: 0.01, num_layers: 2, hidden_size: 32\n"
     ]
    },
    {
     "name": "stderr",
     "output_type": "stream",
     "text": [
      "100%|██████████| 40/40 [00:16<00:00,  2.47epoch/s, f1=0.801, loss=0.429]\n"
     ]
    },
    {
     "name": "stdout",
     "output_type": "stream",
     "text": [
      "Best model loaded\n",
      "Valid F1-score: 0.8887001811594203\n",
      "lr: 0.01, num_layers: 3, hidden_size: 16\n"
     ]
    },
    {
     "name": "stderr",
     "output_type": "stream",
     "text": [
      "100%|██████████| 40/40 [00:16<00:00,  2.46epoch/s, f1=0.898, loss=0.4]  \n"
     ]
    },
    {
     "name": "stdout",
     "output_type": "stream",
     "text": [
      "Best model loaded\n",
      "Valid F1-score: 0.8975317028985508\n",
      "lr: 0.01, num_layers: 3, hidden_size: 32\n"
     ]
    },
    {
     "name": "stderr",
     "output_type": "stream",
     "text": [
      "100%|██████████| 40/40 [00:18<00:00,  2.20epoch/s, f1=0.549, loss=51.5]\n"
     ]
    },
    {
     "name": "stdout",
     "output_type": "stream",
     "text": [
      "Best model loaded\n",
      "Valid F1-score: 0.5494791666666666\n",
      "lr: 0.001, num_layers: 2, hidden_size: 16\n"
     ]
    },
    {
     "name": "stderr",
     "output_type": "stream",
     "text": [
      "100%|██████████| 40/40 [00:15<00:00,  2.51epoch/s, f1=0.77, loss=0.582] \n"
     ]
    },
    {
     "name": "stdout",
     "output_type": "stream",
     "text": [
      "Best model loaded\n",
      "Valid F1-score: 0.7701539855072465\n",
      "lr: 0.001, num_layers: 2, hidden_size: 32\n"
     ]
    },
    {
     "name": "stderr",
     "output_type": "stream",
     "text": [
      "100%|██████████| 40/40 [00:16<00:00,  2.36epoch/s, f1=0.739, loss=0.56] \n"
     ]
    },
    {
     "name": "stdout",
     "output_type": "stream",
     "text": [
      "Best model loaded\n",
      "Valid F1-score: 0.7571331521739131\n",
      "lr: 0.001, num_layers: 3, hidden_size: 16\n"
     ]
    },
    {
     "name": "stderr",
     "output_type": "stream",
     "text": [
      "100%|██████████| 40/40 [00:16<00:00,  2.37epoch/s, f1=0.688, loss=13]  \n"
     ]
    },
    {
     "name": "stdout",
     "output_type": "stream",
     "text": [
      "Best model loaded\n",
      "Valid F1-score: 0.7242980072463768\n",
      "lr: 0.001, num_layers: 3, hidden_size: 32\n"
     ]
    },
    {
     "name": "stderr",
     "output_type": "stream",
     "text": [
      "100%|██████████| 40/40 [00:17<00:00,  2.24epoch/s, f1=0.757, loss=4.29]\n"
     ]
    },
    {
     "name": "stdout",
     "output_type": "stream",
     "text": [
      "Best model loaded\n",
      "Valid F1-score: 0.7643795289855072\n",
      "Test F1-score: 0.8399122807017544\n",
      "K-Fold: 5/12\n",
      "lr: 0.01, num_layers: 2, hidden_size: 16\n"
     ]
    },
    {
     "name": "stderr",
     "output_type": "stream",
     "text": [
      "100%|██████████| 40/40 [00:16<00:00,  2.42epoch/s, f1=0.727, loss=0.518]\n"
     ]
    },
    {
     "name": "stdout",
     "output_type": "stream",
     "text": [
      "Best model loaded\n",
      "Valid F1-score: 0.8059329710144928\n",
      "lr: 0.01, num_layers: 2, hidden_size: 32\n"
     ]
    },
    {
     "name": "stderr",
     "output_type": "stream",
     "text": [
      "100%|██████████| 40/40 [00:16<00:00,  2.38epoch/s, f1=0.837, loss=0.448]\n"
     ]
    },
    {
     "name": "stdout",
     "output_type": "stream",
     "text": [
      "Best model loaded\n",
      "Valid F1-score: 0.8558650362318841\n",
      "lr: 0.01, num_layers: 3, hidden_size: 16\n"
     ]
    },
    {
     "name": "stderr",
     "output_type": "stream",
     "text": [
      "100%|██████████| 40/40 [00:16<00:00,  2.39epoch/s, f1=0.877, loss=0.395]\n"
     ]
    },
    {
     "name": "stdout",
     "output_type": "stream",
     "text": [
      "Best model loaded\n",
      "Valid F1-score: 0.8766983695652174\n",
      "lr: 0.01, num_layers: 3, hidden_size: 32\n"
     ]
    },
    {
     "name": "stderr",
     "output_type": "stream",
     "text": [
      "100%|██████████| 40/40 [00:18<00:00,  2.20epoch/s, f1=0.518, loss=49.6]\n"
     ]
    },
    {
     "name": "stdout",
     "output_type": "stream",
     "text": [
      "Best model loaded\n",
      "Valid F1-score: 0.5176630434782609\n",
      "lr: 0.001, num_layers: 2, hidden_size: 16\n"
     ]
    },
    {
     "name": "stderr",
     "output_type": "stream",
     "text": [
      "100%|██████████| 40/40 [00:16<00:00,  2.49epoch/s, f1=0.749, loss=0.551]\n"
     ]
    },
    {
     "name": "stdout",
     "output_type": "stream",
     "text": [
      "Best model loaded\n",
      "Valid F1-score: 0.7492074275362319\n",
      "lr: 0.001, num_layers: 2, hidden_size: 32\n"
     ]
    },
    {
     "name": "stderr",
     "output_type": "stream",
     "text": [
      "100%|██████████| 40/40 [00:16<00:00,  2.40epoch/s, f1=0.734, loss=0.58] \n"
     ]
    },
    {
     "name": "stdout",
     "output_type": "stream",
     "text": [
      "Best model loaded\n",
      "Valid F1-score: 0.7481884057971014\n",
      "lr: 0.001, num_layers: 3, hidden_size: 16\n"
     ]
    },
    {
     "name": "stderr",
     "output_type": "stream",
     "text": [
      "100%|██████████| 40/40 [00:16<00:00,  2.43epoch/s, f1=0.67, loss=2.24] \n"
     ]
    },
    {
     "name": "stdout",
     "output_type": "stream",
     "text": [
      "Best model loaded\n",
      "Valid F1-score: 0.7325634057971014\n",
      "lr: 0.001, num_layers: 3, hidden_size: 32\n"
     ]
    },
    {
     "name": "stderr",
     "output_type": "stream",
     "text": [
      "100%|██████████| 40/40 [00:17<00:00,  2.28epoch/s, f1=0.754, loss=5.7] \n"
     ]
    },
    {
     "name": "stdout",
     "output_type": "stream",
     "text": [
      "Best model loaded\n",
      "Valid F1-score: 0.7560009057971014\n",
      "Test F1-score: 0.8656798245614036\n",
      "K-Fold: 6/12\n",
      "lr: 0.01, num_layers: 2, hidden_size: 16\n"
     ]
    },
    {
     "name": "stderr",
     "output_type": "stream",
     "text": [
      "100%|██████████| 40/40 [00:15<00:00,  2.51epoch/s, f1=0.738, loss=0.497]\n"
     ]
    },
    {
     "name": "stdout",
     "output_type": "stream",
     "text": [
      "Best model loaded\n",
      "Valid F1-score: 0.7528306159420289\n",
      "lr: 0.01, num_layers: 2, hidden_size: 32\n"
     ]
    },
    {
     "name": "stderr",
     "output_type": "stream",
     "text": [
      "100%|██████████| 40/40 [00:16<00:00,  2.45epoch/s, f1=0.752, loss=0.504]\n"
     ]
    },
    {
     "name": "stdout",
     "output_type": "stream",
     "text": [
      "Best model loaded\n",
      "Valid F1-score: 0.7648324275362319\n",
      "lr: 0.01, num_layers: 3, hidden_size: 16\n"
     ]
    },
    {
     "name": "stderr",
     "output_type": "stream",
     "text": [
      "100%|██████████| 40/40 [00:16<00:00,  2.48epoch/s, f1=0.469, loss=0.693]\n"
     ]
    },
    {
     "name": "stdout",
     "output_type": "stream",
     "text": [
      "Best model loaded\n",
      "Valid F1-score: 0.53125\n",
      "lr: 0.01, num_layers: 3, hidden_size: 32\n"
     ]
    },
    {
     "name": "stderr",
     "output_type": "stream",
     "text": [
      "100%|██████████| 40/40 [00:17<00:00,  2.24epoch/s, f1=0.469, loss=49.1]\n"
     ]
    },
    {
     "name": "stdout",
     "output_type": "stream",
     "text": [
      "Best model loaded\n",
      "Valid F1-score: 0.46875\n",
      "lr: 0.001, num_layers: 2, hidden_size: 16\n"
     ]
    },
    {
     "name": "stderr",
     "output_type": "stream",
     "text": [
      "100%|██████████| 40/40 [00:15<00:00,  2.54epoch/s, f1=0.734, loss=0.495]\n"
     ]
    },
    {
     "name": "stdout",
     "output_type": "stream",
     "text": [
      "Best model loaded\n",
      "Valid F1-score: 0.7544157608695653\n",
      "lr: 0.001, num_layers: 2, hidden_size: 32\n"
     ]
    },
    {
     "name": "stderr",
     "output_type": "stream",
     "text": [
      "100%|██████████| 40/40 [00:16<00:00,  2.46epoch/s, f1=0.623, loss=0.741]\n"
     ]
    },
    {
     "name": "stdout",
     "output_type": "stream",
     "text": [
      "Best model loaded\n",
      "Valid F1-score: 0.7730978260869565\n",
      "lr: 0.001, num_layers: 3, hidden_size: 16\n"
     ]
    },
    {
     "name": "stderr",
     "output_type": "stream",
     "text": [
      "100%|██████████| 40/40 [00:16<00:00,  2.44epoch/s, f1=0.691, loss=6.62]\n"
     ]
    },
    {
     "name": "stdout",
     "output_type": "stream",
     "text": [
      "Best model loaded\n",
      "Valid F1-score: 0.7319972826086957\n",
      "lr: 0.001, num_layers: 3, hidden_size: 32\n"
     ]
    },
    {
     "name": "stderr",
     "output_type": "stream",
     "text": [
      "100%|██████████| 40/40 [00:17<00:00,  2.28epoch/s, f1=0.63, loss=5.32] \n"
     ]
    },
    {
     "name": "stdout",
     "output_type": "stream",
     "text": [
      "Best model loaded\n",
      "Valid F1-score: 0.7377717391304347\n",
      "Test F1-score: 0.756030701754386\n",
      "K-Fold: 7/12\n",
      "lr: 0.01, num_layers: 2, hidden_size: 16\n"
     ]
    },
    {
     "name": "stderr",
     "output_type": "stream",
     "text": [
      "100%|██████████| 40/40 [00:15<00:00,  2.61epoch/s, f1=0.825, loss=0.383]\n"
     ]
    },
    {
     "name": "stdout",
     "output_type": "stream",
     "text": [
      "Best model loaded\n",
      "Valid F1-score: 0.8678668478260869\n",
      "lr: 0.01, num_layers: 2, hidden_size: 32\n"
     ]
    },
    {
     "name": "stderr",
     "output_type": "stream",
     "text": [
      "100%|██████████| 40/40 [00:14<00:00,  2.76epoch/s, f1=0.781, loss=0.482]\n"
     ]
    },
    {
     "name": "stdout",
     "output_type": "stream",
     "text": [
      "Best model loaded\n",
      "Valid F1-score: 0.7882699275362319\n",
      "lr: 0.01, num_layers: 3, hidden_size: 16\n"
     ]
    },
    {
     "name": "stderr",
     "output_type": "stream",
     "text": [
      "100%|██████████| 40/40 [00:14<00:00,  2.73epoch/s, f1=0.62, loss=0.617] \n"
     ]
    },
    {
     "name": "stdout",
     "output_type": "stream",
     "text": [
      "Best model loaded\n",
      "Valid F1-score: 0.6222826086956522\n",
      "lr: 0.01, num_layers: 3, hidden_size: 32\n"
     ]
    },
    {
     "name": "stderr",
     "output_type": "stream",
     "text": [
      "100%|██████████| 40/40 [00:16<00:00,  2.48epoch/s, f1=0.537, loss=50.8]\n"
     ]
    },
    {
     "name": "stdout",
     "output_type": "stream",
     "text": [
      "Best model loaded\n",
      "Valid F1-score: 0.536911231884058\n",
      "lr: 0.001, num_layers: 2, hidden_size: 16\n"
     ]
    },
    {
     "name": "stderr",
     "output_type": "stream",
     "text": [
      "100%|██████████| 40/40 [00:14<00:00,  2.76epoch/s, f1=0.733, loss=0.536]\n"
     ]
    },
    {
     "name": "stdout",
     "output_type": "stream",
     "text": [
      "Best model loaded\n",
      "Valid F1-score: 0.7591711956521738\n",
      "lr: 0.001, num_layers: 2, hidden_size: 32\n"
     ]
    },
    {
     "name": "stderr",
     "output_type": "stream",
     "text": [
      "100%|██████████| 40/40 [00:15<00:00,  2.65epoch/s, f1=0.758, loss=0.588]\n"
     ]
    },
    {
     "name": "stdout",
     "output_type": "stream",
     "text": [
      "Best model loaded\n",
      "Valid F1-score: 0.7774003623188405\n",
      "lr: 0.001, num_layers: 3, hidden_size: 16\n"
     ]
    },
    {
     "name": "stderr",
     "output_type": "stream",
     "text": [
      "100%|██████████| 40/40 [00:15<00:00,  2.63epoch/s, f1=0.703, loss=1.73] \n"
     ]
    },
    {
     "name": "stdout",
     "output_type": "stream",
     "text": [
      "Best model loaded\n",
      "Valid F1-score: 0.7613224637681159\n",
      "lr: 0.001, num_layers: 3, hidden_size: 32\n"
     ]
    },
    {
     "name": "stderr",
     "output_type": "stream",
     "text": [
      "100%|██████████| 40/40 [00:15<00:00,  2.54epoch/s, f1=0.724, loss=0.548]\n"
     ]
    },
    {
     "name": "stdout",
     "output_type": "stream",
     "text": [
      "Best model loaded\n",
      "Valid F1-score: 0.7295063405797101\n",
      "Test F1-score: 0.8448464912280702\n",
      "K-Fold: 8/12\n",
      "lr: 0.01, num_layers: 2, hidden_size: 16\n"
     ]
    },
    {
     "name": "stderr",
     "output_type": "stream",
     "text": [
      "100%|██████████| 40/40 [00:14<00:00,  2.79epoch/s, f1=0.77, loss=0.497] \n"
     ]
    },
    {
     "name": "stdout",
     "output_type": "stream",
     "text": [
      "Best model loaded\n",
      "Valid F1-score: 0.7835144927536232\n",
      "lr: 0.01, num_layers: 2, hidden_size: 32\n"
     ]
    },
    {
     "name": "stderr",
     "output_type": "stream",
     "text": [
      "100%|██████████| 40/40 [00:14<00:00,  2.72epoch/s, f1=0.843, loss=0.388]\n"
     ]
    },
    {
     "name": "stdout",
     "output_type": "stream",
     "text": [
      "Best model loaded\n",
      "Valid F1-score: 0.8500905797101449\n",
      "lr: 0.01, num_layers: 3, hidden_size: 16\n"
     ]
    },
    {
     "name": "stderr",
     "output_type": "stream",
     "text": [
      "100%|██████████| 40/40 [00:14<00:00,  2.75epoch/s, f1=0.496, loss=0.693]\n"
     ]
    },
    {
     "name": "stdout",
     "output_type": "stream",
     "text": [
      "Best model loaded\n",
      "Valid F1-score: 0.7236186594202899\n",
      "lr: 0.01, num_layers: 3, hidden_size: 32\n"
     ]
    },
    {
     "name": "stderr",
     "output_type": "stream",
     "text": [
      "100%|██████████| 40/40 [00:15<00:00,  2.58epoch/s, f1=0.496, loss=49.5]\n"
     ]
    },
    {
     "name": "stdout",
     "output_type": "stream",
     "text": [
      "Best model loaded\n",
      "Valid F1-score: 0.49626358695652173\n",
      "lr: 0.001, num_layers: 2, hidden_size: 16\n"
     ]
    },
    {
     "name": "stderr",
     "output_type": "stream",
     "text": [
      "100%|██████████| 40/40 [00:14<00:00,  2.80epoch/s, f1=0.743, loss=0.519]\n"
     ]
    },
    {
     "name": "stdout",
     "output_type": "stream",
     "text": [
      "Best model loaded\n",
      "Valid F1-score: 0.7564538043478262\n",
      "lr: 0.001, num_layers: 2, hidden_size: 32\n"
     ]
    },
    {
     "name": "stderr",
     "output_type": "stream",
     "text": [
      "100%|██████████| 40/40 [00:14<00:00,  2.74epoch/s, f1=0.737, loss=0.52] \n"
     ]
    },
    {
     "name": "stdout",
     "output_type": "stream",
     "text": [
      "Best model loaded\n",
      "Valid F1-score: 0.7366394927536232\n",
      "lr: 0.001, num_layers: 3, hidden_size: 16\n"
     ]
    },
    {
     "name": "stderr",
     "output_type": "stream",
     "text": [
      "100%|██████████| 40/40 [00:15<00:00,  2.66epoch/s, f1=0.621, loss=3.08] \n"
     ]
    },
    {
     "name": "stdout",
     "output_type": "stream",
     "text": [
      "Best model loaded\n",
      "Valid F1-score: 0.7616621376811595\n",
      "lr: 0.001, num_layers: 3, hidden_size: 32\n"
     ]
    },
    {
     "name": "stderr",
     "output_type": "stream",
     "text": [
      "100%|██████████| 40/40 [00:16<00:00,  2.49epoch/s, f1=0.496, loss=49.5]\n"
     ]
    },
    {
     "name": "stdout",
     "output_type": "stream",
     "text": [
      "Best model loaded\n",
      "Valid F1-score: 0.7590579710144928\n",
      "Test F1-score: 0.8204495614035089\n",
      "K-Fold: 9/12\n",
      "lr: 0.01, num_layers: 2, hidden_size: 16\n"
     ]
    },
    {
     "name": "stderr",
     "output_type": "stream",
     "text": [
      "100%|██████████| 40/40 [00:14<00:00,  2.70epoch/s, f1=0.735, loss=0.49] \n"
     ]
    },
    {
     "name": "stdout",
     "output_type": "stream",
     "text": [
      "Best model loaded\n",
      "Valid F1-score: 0.7518115942028986\n",
      "lr: 0.01, num_layers: 2, hidden_size: 32\n"
     ]
    },
    {
     "name": "stderr",
     "output_type": "stream",
     "text": [
      "100%|██████████| 40/40 [00:14<00:00,  2.73epoch/s, f1=0.767, loss=0.445]\n"
     ]
    },
    {
     "name": "stdout",
     "output_type": "stream",
     "text": [
      "Best model loaded\n",
      "Valid F1-score: 0.7674365942028986\n",
      "lr: 0.01, num_layers: 3, hidden_size: 16\n"
     ]
    },
    {
     "name": "stderr",
     "output_type": "stream",
     "text": [
      "100%|██████████| 40/40 [00:15<00:00,  2.64epoch/s, f1=0.641, loss=0.619]\n"
     ]
    },
    {
     "name": "stdout",
     "output_type": "stream",
     "text": [
      "Best model loaded\n",
      "Valid F1-score: 0.6409646739130435\n",
      "lr: 0.01, num_layers: 3, hidden_size: 32\n"
     ]
    },
    {
     "name": "stderr",
     "output_type": "stream",
     "text": [
      "100%|██████████| 40/40 [00:16<00:00,  2.42epoch/s, f1=0.506, loss=49.6]\n"
     ]
    },
    {
     "name": "stdout",
     "output_type": "stream",
     "text": [
      "Best model loaded\n",
      "Valid F1-score: 0.5062273550724637\n",
      "lr: 0.001, num_layers: 2, hidden_size: 16\n"
     ]
    },
    {
     "name": "stderr",
     "output_type": "stream",
     "text": [
      "100%|██████████| 40/40 [00:15<00:00,  2.62epoch/s, f1=0.738, loss=0.512]\n"
     ]
    },
    {
     "name": "stdout",
     "output_type": "stream",
     "text": [
      "Best model loaded\n",
      "Valid F1-score: 0.7403759057971014\n",
      "lr: 0.001, num_layers: 2, hidden_size: 32\n"
     ]
    },
    {
     "name": "stderr",
     "output_type": "stream",
     "text": [
      "100%|██████████| 40/40 [00:15<00:00,  2.59epoch/s, f1=0.691, loss=0.504]\n"
     ]
    },
    {
     "name": "stdout",
     "output_type": "stream",
     "text": [
      "Best model loaded\n",
      "Valid F1-score: 0.7393568840579711\n",
      "lr: 0.001, num_layers: 3, hidden_size: 16\n"
     ]
    },
    {
     "name": "stderr",
     "output_type": "stream",
     "text": [
      "100%|██████████| 40/40 [00:15<00:00,  2.54epoch/s, f1=0.506, loss=49.5]\n"
     ]
    },
    {
     "name": "stdout",
     "output_type": "stream",
     "text": [
      "Best model loaded\n",
      "Valid F1-score: 0.7471693840579711\n",
      "lr: 0.001, num_layers: 3, hidden_size: 32\n"
     ]
    },
    {
     "name": "stderr",
     "output_type": "stream",
     "text": [
      "100%|██████████| 40/40 [00:16<00:00,  2.45epoch/s, f1=0.731, loss=6.7]  \n"
     ]
    },
    {
     "name": "stdout",
     "output_type": "stream",
     "text": [
      "Best model loaded\n",
      "Valid F1-score: 0.7544157608695653\n",
      "Test F1-score: 0.7905701754385964\n",
      "K-Fold: 10/12\n",
      "lr: 0.01, num_layers: 2, hidden_size: 16\n"
     ]
    },
    {
     "name": "stderr",
     "output_type": "stream",
     "text": [
      "100%|██████████| 40/40 [00:14<00:00,  2.68epoch/s, f1=0.828, loss=0.438]\n"
     ]
    },
    {
     "name": "stdout",
     "output_type": "stream",
     "text": [
      "Best model loaded\n",
      "Valid F1-score: 0.8277853260869565\n",
      "lr: 0.01, num_layers: 2, hidden_size: 32\n"
     ]
    },
    {
     "name": "stderr",
     "output_type": "stream",
     "text": [
      "100%|██████████| 40/40 [00:15<00:00,  2.62epoch/s, f1=0.802, loss=0.435]\n"
     ]
    },
    {
     "name": "stdout",
     "output_type": "stream",
     "text": [
      "Best model loaded\n",
      "Valid F1-score: 0.8434103260869565\n",
      "lr: 0.01, num_layers: 3, hidden_size: 16\n"
     ]
    },
    {
     "name": "stderr",
     "output_type": "stream",
     "text": [
      "100%|██████████| 40/40 [00:15<00:00,  2.62epoch/s, f1=0.489, loss=0.693]\n"
     ]
    },
    {
     "name": "stdout",
     "output_type": "stream",
     "text": [
      "Best model loaded\n",
      "Valid F1-score: 0.5966938405797101\n",
      "lr: 0.01, num_layers: 3, hidden_size: 32\n"
     ]
    },
    {
     "name": "stderr",
     "output_type": "stream",
     "text": [
      "100%|██████████| 40/40 [00:16<00:00,  2.43epoch/s, f1=0.511, loss=50.5]\n"
     ]
    },
    {
     "name": "stdout",
     "output_type": "stream",
     "text": [
      "Best model loaded\n",
      "Valid F1-score: 0.5108695652173912\n",
      "lr: 0.001, num_layers: 2, hidden_size: 16\n"
     ]
    },
    {
     "name": "stderr",
     "output_type": "stream",
     "text": [
      "100%|██████████| 40/40 [00:14<00:00,  2.68epoch/s, f1=0.769, loss=0.536]\n"
     ]
    },
    {
     "name": "stdout",
     "output_type": "stream",
     "text": [
      "Best model loaded\n",
      "Valid F1-score: 0.7758152173913043\n",
      "lr: 0.001, num_layers: 2, hidden_size: 32\n"
     ]
    },
    {
     "name": "stderr",
     "output_type": "stream",
     "text": [
      "100%|██████████| 40/40 [00:15<00:00,  2.63epoch/s, f1=0.768, loss=0.496]\n"
     ]
    },
    {
     "name": "stdout",
     "output_type": "stream",
     "text": [
      "Best model loaded\n",
      "Valid F1-score: 0.7684556159420289\n",
      "lr: 0.001, num_layers: 3, hidden_size: 16\n"
     ]
    },
    {
     "name": "stderr",
     "output_type": "stream",
     "text": [
      "100%|██████████| 40/40 [00:15<00:00,  2.60epoch/s, f1=0.749, loss=0.679]\n"
     ]
    },
    {
     "name": "stdout",
     "output_type": "stream",
     "text": [
      "Best model loaded\n",
      "Valid F1-score: 0.7596240942028986\n",
      "lr: 0.001, num_layers: 3, hidden_size: 32\n"
     ]
    },
    {
     "name": "stderr",
     "output_type": "stream",
     "text": [
      "100%|██████████| 40/40 [00:16<00:00,  2.44epoch/s, f1=0.511, loss=50.5]\n"
     ]
    },
    {
     "name": "stdout",
     "output_type": "stream",
     "text": [
      "Best model loaded\n",
      "Valid F1-score: 0.7195425724637681\n",
      "Test F1-score: 0.8067434210526315\n",
      "K-Fold: 11/12\n",
      "lr: 0.01, num_layers: 2, hidden_size: 16\n"
     ]
    },
    {
     "name": "stderr",
     "output_type": "stream",
     "text": [
      "100%|██████████| 40/40 [00:15<00:00,  2.62epoch/s, f1=0.77, loss=0.46]  \n"
     ]
    },
    {
     "name": "stdout",
     "output_type": "stream",
     "text": [
      "Best model loaded\n",
      "Valid F1-score: 0.7959692028985508\n",
      "lr: 0.01, num_layers: 2, hidden_size: 32\n"
     ]
    },
    {
     "name": "stderr",
     "output_type": "stream",
     "text": [
      "100%|██████████| 40/40 [00:15<00:00,  2.63epoch/s, f1=0.826, loss=0.434]\n"
     ]
    },
    {
     "name": "stdout",
     "output_type": "stream",
     "text": [
      "Best model loaded\n",
      "Valid F1-score: 0.8485054347826088\n",
      "lr: 0.01, num_layers: 3, hidden_size: 16\n"
     ]
    },
    {
     "name": "stderr",
     "output_type": "stream",
     "text": [
      "100%|██████████| 40/40 [00:15<00:00,  2.62epoch/s, f1=0.854, loss=0.379]\n"
     ]
    },
    {
     "name": "stdout",
     "output_type": "stream",
     "text": [
      "Best model loaded\n",
      "Valid F1-score: 0.8641304347826088\n",
      "lr: 0.01, num_layers: 3, hidden_size: 32\n"
     ]
    },
    {
     "name": "stderr",
     "output_type": "stream",
     "text": [
      "100%|██████████| 40/40 [00:16<00:00,  2.43epoch/s, f1=0.497, loss=50.3]\n"
     ]
    },
    {
     "name": "stdout",
     "output_type": "stream",
     "text": [
      "Best model loaded\n",
      "Valid F1-score: 0.49682971014492755\n",
      "lr: 0.001, num_layers: 2, hidden_size: 16\n"
     ]
    },
    {
     "name": "stderr",
     "output_type": "stream",
     "text": [
      "100%|██████████| 40/40 [00:14<00:00,  2.67epoch/s, f1=0.732, loss=0.517]\n"
     ]
    },
    {
     "name": "stdout",
     "output_type": "stream",
     "text": [
      "Best model loaded\n",
      "Valid F1-score: 0.7699275362318841\n",
      "lr: 0.001, num_layers: 2, hidden_size: 32\n"
     ]
    },
    {
     "name": "stderr",
     "output_type": "stream",
     "text": [
      "100%|██████████| 40/40 [00:15<00:00,  2.65epoch/s, f1=0.701, loss=0.653]\n"
     ]
    },
    {
     "name": "stdout",
     "output_type": "stream",
     "text": [
      "Best model loaded\n",
      "Valid F1-score: 0.7538496376811595\n",
      "lr: 0.001, num_layers: 3, hidden_size: 16\n"
     ]
    },
    {
     "name": "stderr",
     "output_type": "stream",
     "text": [
      "100%|██████████| 40/40 [00:15<00:00,  2.59epoch/s, f1=0.709, loss=2.39]\n"
     ]
    },
    {
     "name": "stdout",
     "output_type": "stream",
     "text": [
      "Best model loaded\n",
      "Valid F1-score: 0.7340353260869565\n",
      "lr: 0.001, num_layers: 3, hidden_size: 32\n"
     ]
    },
    {
     "name": "stderr",
     "output_type": "stream",
     "text": [
      "100%|██████████| 40/40 [00:16<00:00,  2.44epoch/s, f1=0.497, loss=50.2]\n"
     ]
    },
    {
     "name": "stdout",
     "output_type": "stream",
     "text": [
      "Best model loaded\n",
      "Valid F1-score: 0.7392436594202899\n",
      "Test F1-score: 0.8760964912280702\n",
      "K-Fold: 12/12\n",
      "lr: 0.01, num_layers: 2, hidden_size: 16\n"
     ]
    },
    {
     "name": "stderr",
     "output_type": "stream",
     "text": [
      "100%|██████████| 40/40 [00:14<00:00,  2.67epoch/s, f1=0.772, loss=0.481]\n"
     ]
    },
    {
     "name": "stdout",
     "output_type": "stream",
     "text": [
      "Best model loaded\n",
      "Valid F1-score: 0.7720788043478262\n",
      "lr: 0.01, num_layers: 2, hidden_size: 32\n"
     ]
    },
    {
     "name": "stderr",
     "output_type": "stream",
     "text": [
      "100%|██████████| 40/40 [00:15<00:00,  2.58epoch/s, f1=0.51, loss=49.9]\n"
     ]
    },
    {
     "name": "stdout",
     "output_type": "stream",
     "text": [
      "Best model loaded\n",
      "Valid F1-score: 0.5104166666666666\n",
      "lr: 0.01, num_layers: 3, hidden_size: 16\n"
     ]
    },
    {
     "name": "stderr",
     "output_type": "stream",
     "text": [
      "100%|██████████| 40/40 [00:16<00:00,  2.41epoch/s, f1=0.51, loss=49.8]\n"
     ]
    },
    {
     "name": "stdout",
     "output_type": "stream",
     "text": [
      "Best model loaded\n",
      "Valid F1-score: 0.5104166666666666\n",
      "lr: 0.01, num_layers: 3, hidden_size: 32\n"
     ]
    },
    {
     "name": "stderr",
     "output_type": "stream",
     "text": [
      "100%|██████████| 40/40 [00:17<00:00,  2.30epoch/s, f1=0.623, loss=0.627]\n"
     ]
    },
    {
     "name": "stdout",
     "output_type": "stream",
     "text": [
      "Best model loaded\n",
      "Valid F1-score: 0.6950860507246377\n",
      "lr: 0.001, num_layers: 2, hidden_size: 16\n"
     ]
    },
    {
     "name": "stderr",
     "output_type": "stream",
     "text": [
      "100%|██████████| 40/40 [00:16<00:00,  2.46epoch/s, f1=0.722, loss=0.522]\n"
     ]
    },
    {
     "name": "stdout",
     "output_type": "stream",
     "text": [
      "Best model loaded\n",
      "Valid F1-score: 0.7293931159420289\n",
      "lr: 0.001, num_layers: 2, hidden_size: 32\n"
     ]
    },
    {
     "name": "stderr",
     "output_type": "stream",
     "text": [
      "100%|██████████| 40/40 [00:15<00:00,  2.55epoch/s, f1=0.603, loss=0.536]\n"
     ]
    },
    {
     "name": "stdout",
     "output_type": "stream",
     "text": [
      "Best model loaded\n",
      "Valid F1-score: 0.7419610507246377\n",
      "lr: 0.001, num_layers: 3, hidden_size: 16\n"
     ]
    },
    {
     "name": "stderr",
     "output_type": "stream",
     "text": [
      "100%|██████████| 40/40 [00:15<00:00,  2.55epoch/s, f1=0.629, loss=1.98]\n"
     ]
    },
    {
     "name": "stdout",
     "output_type": "stream",
     "text": [
      "Best model loaded\n",
      "Valid F1-score: 0.7086730072463768\n",
      "lr: 0.001, num_layers: 3, hidden_size: 32\n"
     ]
    },
    {
     "name": "stderr",
     "output_type": "stream",
     "text": [
      "100%|██████████| 40/40 [00:17<00:00,  2.35epoch/s, f1=0.51, loss=49.9] "
     ]
    },
    {
     "name": "stdout",
     "output_type": "stream",
     "text": [
      "Best model loaded\n",
      "Valid F1-score: 0.7606431159420289\n",
      "Test F1-score: 0.7924890350877193\n"
     ]
    },
    {
     "name": "stderr",
     "output_type": "stream",
     "text": [
      "\n"
     ]
    }
   ],
   "source": [
    "\n",
    "# gather all data in one dataset (train/val/test)   \n",
    "all_data = train_dataset + test_dataset\n",
    "all_loader = DataLoader(all_data, batch_size=32, shuffle=False)\n",
    "\n",
    "### Max number of epochs\n",
    "max_epochs = 40\n",
    "\n",
    "### Number of features\n",
    "n_features, n_classes = 1, 1\n",
    "\n",
    "### DEVICE GPU OR CPU : will select GPU if available\n",
    "device = torch.device(\"cuda\" if torch.cuda.is_available() else \"cpu\")\n",
    "print(\"\\nDevice: \", device)\n",
    "\n",
    "\n",
    "K = 12\n",
    "best_score = 0\n",
    "best_model = None\n",
    "best_hyperparameters = None\n",
    "results = pd.DataFrame(columns=['K', 'valid_score', 'test_score', 'lr', 'num_layers', 'hidden_size'])\n",
    "for k in range(K):\n",
    "    print(f\"K-Fold: {k+1}/{K}\")\n",
    "    # split the data into train and test\n",
    "    n = len(all_data)//K \n",
    "    test_range_index = np.random.choice(len(all_data), n, replace=False)\n",
    "    # all the rest for train\n",
    "    train_range_index = np.setdiff1d(np.arange(len(all_data)), test_range_index)\n",
    "    train_out = torch.utils.data.Subset(all_data, train_range_index)\n",
    "    test = torch.utils.data.Subset(all_data, test_range_index)\n",
    "\n",
    "    # randomly choose 20% of the train_out data to be the validation set\n",
    "    n = len(train_out)//5\n",
    "    val_range_index = np.random.choice(len(train_out), n, replace=False)\n",
    "    val = torch.utils.data.Subset(train_out, val_range_index)\n",
    "    train_in = torch.utils.data.Subset(train_out, np.setdiff1d(np.arange(len(train_out)), val_range_index))\n",
    "\n",
    "    \n",
    "\n",
    "    # create the dataloader\n",
    "    train_in_loader = DataLoader(train_in, batch_size=64, shuffle=True)\n",
    "    val_loader = DataLoader(val, batch_size=64, shuffle=False)\n",
    "    test_loader = DataLoader(test, batch_size=64, shuffle=False)\n",
    "\n",
    "    # define hyperparameters grid\n",
    "    hyperparameters = {\n",
    "        'lr': [0.01, 0.001],\n",
    "        'num_layers': [2, 3],\n",
    "        'hidden_size': [16, 32]\n",
    "    }\n",
    "\n",
    "    best_score = 0\n",
    "    for lr in hyperparameters['lr']:\n",
    "        for num_layers in hyperparameters['num_layers']:\n",
    "            for hidden_size in hyperparameters['hidden_size']:\n",
    "                print(f\"lr: {lr}, num_layers: {num_layers}, hidden_size: {hidden_size}\")\n",
    "                ### DEFINE THE MODEL\n",
    "                basic_model = GraphSAGE(n_features, hidden_size, n_classes, num_layers).to(device)\n",
    "\n",
    "                ### DEFINE LOSS FUNCTION\n",
    "                loss_fcn = nn.BCELoss()\n",
    "\n",
    "                ### DEFINE OPTIMIZER\n",
    "                optimizer = torch.optim.Adam(basic_model.parameters(), lr=lr)\n",
    "                scheduler = torch.optim.lr_scheduler.ReduceLROnPlateau(optimizer, mode='min', factor=0.1, patience=5, min_lr=0.0001)\n",
    "\n",
    "                ### TRAIN THE MODEL\n",
    "                epoch_list, basic_model_scores = train_graph_classification(\n",
    "                    basic_model,\n",
    "                    loss_fcn,\n",
    "                    device,\n",
    "                    optimizer,\n",
    "                    max_epochs,\n",
    "                    train_in_loader,\n",
    "                    val_loader,\n",
    "                    n_classes,\n",
    "                    save_best=True\n",
    "                )\n",
    "\n",
    "                # evaluate the model on the test set\n",
    "                valid_score = evaluate_graph_classification(basic_model, device, val_loader,n_classes)\n",
    "                print(f\"Valid F1-score: {valid_score}\")\n",
    "\n",
    "                # save the best model\n",
    "                if valid_score > best_score:\n",
    "                    best_score = valid_score\n",
    "                    del best_model\n",
    "                    best_model = deepcopy(basic_model)\n",
    "                    best_hyperparameters = {\n",
    "                        'lr': lr,\n",
    "                        'num_layers': num_layers,\n",
    "                        'hidden_size': hidden_size\n",
    "                    }\n",
    "                results.loc[len(results.index)] = [k, valid_score, 0, lr, num_layers, hidden_size]\n",
    "\n",
    "                del basic_model\n",
    "                del optimizer\n",
    "                del scheduler\n",
    "                torch.cuda.empty_cache()\n",
    "                \n",
    "\n",
    "    # evaluate the best model on the test set\n",
    "    test_score = evaluate_graph_classification(best_model, device, test_loader, n_classes)\n",
    "    print(f\"Test F1-score: {test_score}\")\n",
    "\n",
    "    # save the results in dataframe\n",
    "    results.loc[len(results.index)] = [k, best_score, test_score, best_hyperparameters['lr'], best_hyperparameters['num_layers'], best_hyperparameters['hidden_size']]\n",
    "\n",
    "# save the results in a csv file\n",
    "results.to_csv('sage_reddit.csv', index=False)"
   ]
  },
  {
   "cell_type": "code",
   "execution_count": 21,
   "metadata": {},
   "outputs": [
    {
     "name": "stdout",
     "output_type": "stream",
     "text": [
      "Mean test score: 0.8273254751461989\n",
      "Std test score: 0.036477245025604926\n"
     ]
    }
   ],
   "source": [
    "# see the mean and std of the results for the test set\n",
    "test_results = results[results['test_score'] != 0].test_score\n",
    "print(f\"Mean test score: {test_results.mean()}\")\n",
    "print(f\"Std test score: {test_results.std()}\")"
   ]
  },
  {
   "cell_type": "code",
   "execution_count": null,
   "metadata": {},
   "outputs": [],
   "source": []
  }
 ],
 "metadata": {
  "kernelspec": {
   "display_name": "Python 3",
   "language": "python",
   "name": "python3"
  },
  "language_info": {
   "codemirror_mode": {
    "name": "ipython",
    "version": 3
   },
   "file_extension": ".py",
   "mimetype": "text/x-python",
   "name": "python",
   "nbconvert_exporter": "python",
   "pygments_lexer": "ipython3",
   "version": "3.11.4"
  }
 },
 "nbformat": 4,
 "nbformat_minor": 2
}
